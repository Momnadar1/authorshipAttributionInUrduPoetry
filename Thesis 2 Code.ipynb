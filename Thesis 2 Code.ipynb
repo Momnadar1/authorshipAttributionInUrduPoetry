{
 "cells": [
  {
   "cell_type": "code",
   "execution_count": 10,
   "metadata": {},
   "outputs": [],
   "source": [
    "import numpy as np\n",
    "REAL = np.float32 \n",
    "# initialize method for Model to work\n",
    "def sif_embeddings_fasttext(sentences, model, alpha=0.025):\n",
    "    vlookup = model.words \n",
    "    size = model.get_dimension()  \n",
    "    output = []\n",
    "    for s in sentences:\n",
    "        count = 0\n",
    "        v = np.zeros(size, dtype=REAL) # Summary vector\n",
    "        for w in str(s).split(' '):\n",
    "            if w in vlookup:\n",
    "                    w1=model.get_word_vector(w)\n",
    "                    for i in range(size):\n",
    "                        v[i] +=  (w1[i])\n",
    "                    count += 1\n",
    "        if count > 0:\n",
    "            for i in range(size):\n",
    "                v[i] *= 1/count\n",
    "        output.append(abs(v))\n",
    "    return np.vstack((output)).astype(REAL)"
   ]
  },
  {
   "cell_type": "code",
   "execution_count": 9,
   "metadata": {},
   "outputs": [],
   "source": [
    "# print(predicted)\n",
    "import numpy as np\n",
    "REAL = np.float32 \n",
    "# initialize method for Model to work\n",
    "def sif_embeddings(sentences, model, alpha=0.025):\n",
    "    vlookup = model.wv.vocab  # Gives us access to word index and count\n",
    "    vectors = model.wv        # Gives us access to word vectors\n",
    "    size = model.vector_size  # Embedding size\n",
    "    output = []\n",
    "    for s in sentences:\n",
    "        count = 0\n",
    "        v = np.zeros(size, dtype=REAL) # Summary vector\n",
    "        for w in str(s).split(' '):\n",
    "            if w in vlookup:\n",
    "                    for i in range(size):\n",
    "                        v[i] +=  vectors[w][i]\n",
    "                    count += 1 \n",
    "        if count > 0:\n",
    "            for i in range(size):\n",
    "                v[i] *= 1/count\n",
    "        output.append((v))\n",
    "    return np.vstack((output)).astype(REAL)"
   ]
  },
  {
   "cell_type": "code",
   "execution_count": 1,
   "metadata": {},
   "outputs": [],
   "source": [
    "import numpy as np\n",
    "from sklearn.model_selection import train_test_split\n",
    "from sklearn.feature_extraction.text import CountVectorizer\n",
    "from sklearn.naive_bayes import MultinomialNB,GaussianNB\n",
    "from sklearn.pipeline import Pipeline\n",
    "from sklearn.feature_extraction.text import TfidfTransformer\n",
    "from sklearn.svm import SVC\n",
    "from sklearn.svm import LinearSVC\n",
    "from sklearn import datasets, linear_model, metrics \n",
    "from sklearn.neural_network import MLPClassifier\n",
    "from sklearn.pipeline import Pipeline\n",
    "from sklearn.ensemble import AdaBoostClassifier\n",
    "from sklearn.ensemble import RandomForestClassifier\n",
    "from sklearn.ensemble import ExtraTreesClassifier\n",
    "from sklearn.model_selection import cross_val_score\n",
    "from sklearn.tree import DecisionTreeClassifier\n",
    "from sklearn.neighbors import KNeighborsClassifier\n",
    "from sklearn.svm import SVC\n",
    "from sklearn.ensemble import VotingClassifier\n",
    "from sklearn.model_selection import cross_val_score\n",
    "from gensim.models import Word2Vec\n",
    "from sklearn.metrics import confusion_matrix \n",
    "from sklearn.metrics import accuracy_score \n",
    "from sklearn.metrics import classification_report "
   ]
  },
  {
   "cell_type": "code",
   "execution_count": 2,
   "metadata": {},
   "outputs": [
    {
     "data": {
      "text/html": [
       "<div>\n",
       "<style scoped>\n",
       "    .dataframe tbody tr th:only-of-type {\n",
       "        vertical-align: middle;\n",
       "    }\n",
       "\n",
       "    .dataframe tbody tr th {\n",
       "        vertical-align: top;\n",
       "    }\n",
       "\n",
       "    .dataframe thead th {\n",
       "        text-align: right;\n",
       "    }\n",
       "</style>\n",
       "<table border=\"1\" class=\"dataframe\">\n",
       "  <thead>\n",
       "    <tr style=\"text-align: right;\">\n",
       "      <th></th>\n",
       "      <th>غزل</th>\n",
       "      <th>label</th>\n",
       "    </tr>\n",
       "  </thead>\n",
       "  <tbody>\n",
       "    <tr>\n",
       "      <th>0</th>\n",
       "      <td>نقش فریادی ہے کس کی شوخیِ تحریر کا</td>\n",
       "      <td>ghalib</td>\n",
       "    </tr>\n",
       "    <tr>\n",
       "      <th>1</th>\n",
       "      <td>کاغذی ہے پیرہن ہر پیکرِ تصویر کا</td>\n",
       "      <td>ghalib</td>\n",
       "    </tr>\n",
       "    <tr>\n",
       "      <th>2</th>\n",
       "      <td>شوخیِ نیرنگ، صیدِ وحشتِ طاؤس ہے</td>\n",
       "      <td>ghalib</td>\n",
       "    </tr>\n",
       "    <tr>\n",
       "      <th>3</th>\n",
       "      <td>دام، سبزے میں ہے پروازِ چمن تسخیر کا</td>\n",
       "      <td>ghalib</td>\n",
       "    </tr>\n",
       "    <tr>\n",
       "      <th>4</th>\n",
       "      <td>لذّتِ ایجادِ ناز، افسونِ عرضِ ذوقِ قتل</td>\n",
       "      <td>ghalib</td>\n",
       "    </tr>\n",
       "  </tbody>\n",
       "</table>\n",
       "</div>"
      ],
      "text/plain": [
       "                                      غزل   label\n",
       "0      نقش فریادی ہے کس کی شوخیِ تحریر کا  ghalib\n",
       "1        کاغذی ہے پیرہن ہر پیکرِ تصویر کا  ghalib\n",
       "2         شوخیِ نیرنگ، صیدِ وحشتِ طاؤس ہے  ghalib\n",
       "3    دام، سبزے میں ہے پروازِ چمن تسخیر کا  ghalib\n",
       "4  لذّتِ ایجادِ ناز، افسونِ عرضِ ذوقِ قتل  ghalib"
      ]
     },
     "execution_count": 2,
     "metadata": {},
     "output_type": "execute_result"
    }
   ],
   "source": [
    "import  pandas as pd\n",
    "df_misra = pd.read_csv('poet_.csv',encoding='utf-8')\n",
    "df_misra.head()"
   ]
  },
  {
   "cell_type": "code",
   "execution_count": 3,
   "metadata": {},
   "outputs": [
    {
     "name": "stdout",
     "output_type": "stream",
     "text": [
      "11018\n"
     ]
    }
   ],
   "source": [
    "i=0\n",
    "X = []\n",
    "Y = []\n",
    "while i < len(df_misra):\n",
    "    X.append( (str(df_misra['غزل'][i])).strip('\\ufeff|\\r\\n|1|2|3|4|5|6|7|8|9|0'))\n",
    "    if(df_misra['label'][i]=='faiz'):\n",
    "        Y.append('0')\n",
    "    if(df_misra['label'][i]=='ghalib'):\n",
    "        Y.append('1')\n",
    "    if(df_misra['label'][i]=='iqbal'):\n",
    "        Y.append('2')\n",
    "    i+=1\n",
    "print(len(X))"
   ]
  },
  {
   "cell_type": "code",
   "execution_count": 4,
   "metadata": {},
   "outputs": [],
   "source": [
    "X_train, X_test, y_train, y_test = train_test_split(X, \n",
    "                                                    Y,test_size=0.20,\n",
    "                                                    random_state=1)"
   ]
  },
  {
   "cell_type": "code",
   "execution_count": 5,
   "metadata": {},
   "outputs": [
    {
     "name": "stdout",
     "output_type": "stream",
     "text": [
      "Confusion Matrix :\n",
      "[[399 250  28]\n",
      " [ 52 729  33]\n",
      " [ 33  71 609]]\n",
      "Accuracy Score : 0.7881125226860254\n",
      "Report : \n",
      "              precision    recall  f1-score   support\n",
      "\n",
      "           0       0.82      0.59      0.69       677\n",
      "           1       0.69      0.90      0.78       814\n",
      "           2       0.91      0.85      0.88       713\n",
      "\n",
      "    accuracy                           0.79      2204\n",
      "   macro avg       0.81      0.78      0.78      2204\n",
      "weighted avg       0.80      0.79      0.78      2204\n",
      "\n"
     ]
    }
   ],
   "source": [
    "text_clf_NB = Pipeline([('vect', CountVectorizer()),('tfidf', TfidfTransformer()),('clf', MultinomialNB()),])\n",
    "text_clf_NB.fit(X_train, y_train)\n",
    "predicted = text_clf_NB.predict(X_test)\n",
    "\n",
    "results = confusion_matrix(y_test, predicted) \n",
    "  \n",
    "print ('Confusion Matrix :')\n",
    "print(results) \n",
    "print ('Accuracy Score :',accuracy_score(y_test, predicted) )\n",
    "print ('Report : ')\n",
    "print( classification_report(y_test, predicted) )\n",
    "# print( \"Accuracy NB: \",np.mean(predicted == y_test))"
   ]
  },
  {
   "cell_type": "code",
   "execution_count": 6,
   "metadata": {},
   "outputs": [
    {
     "name": "stdout",
     "output_type": "stream",
     "text": [
      "Confusion Matrix :\n",
      "[[519 117  41]\n",
      " [ 67 699  48]\n",
      " [ 47  58 608]]\n",
      "Accuracy Score : 0.8284936479128857\n",
      "Report : \n",
      "              precision    recall  f1-score   support\n",
      "\n",
      "           0       0.82      0.77      0.79       677\n",
      "           1       0.80      0.86      0.83       814\n",
      "           2       0.87      0.85      0.86       713\n",
      "\n",
      "    accuracy                           0.83      2204\n",
      "   macro avg       0.83      0.83      0.83      2204\n",
      "weighted avg       0.83      0.83      0.83      2204\n",
      "\n"
     ]
    }
   ],
   "source": [
    "text_clf_RBFKernelSVC = Pipeline([('vect', CountVectorizer()),\n",
    "                      ('tfidf', TfidfTransformer()),\n",
    "                      ('clf', SVC())])\n",
    "text_clf_RBFKernelSVC.fit(X_train, y_train)\n",
    "predicted = text_clf_RBFKernelSVC.predict(X_test)\n",
    "results = confusion_matrix(y_test, predicted) \n",
    "  \n",
    "print ('Confusion Matrix :')\n",
    "print(results) \n",
    "print ('Accuracy Score :',accuracy_score(y_test, predicted) )\n",
    "print ('Report : ')\n",
    "print( classification_report(y_test, predicted) )\n",
    "\n",
    "# print (\"Accuracy RBFKernelSVC: \",np.mean(predicted == y_test))"
   ]
  },
  {
   "cell_type": "code",
   "execution_count": 21,
   "metadata": {},
   "outputs": [
    {
     "name": "stdout",
     "output_type": "stream",
     "text": [
      "Confusion Matrix :\n",
      "[[544 101  32]\n",
      " [117 659  38]\n",
      " [ 80  45 588]]\n",
      "Accuracy Score : 0.8126134301270418\n",
      "Report : \n",
      "              precision    recall  f1-score   support\n",
      "\n",
      "           0       0.73      0.80      0.77       677\n",
      "           1       0.82      0.81      0.81       814\n",
      "           2       0.89      0.82      0.86       713\n",
      "\n",
      "    accuracy                           0.81      2204\n",
      "   macro avg       0.82      0.81      0.81      2204\n",
      "weighted avg       0.82      0.81      0.81      2204\n",
      "\n"
     ]
    }
   ],
   "source": [
    "text_clf_LinearKernelSVC = Pipeline([('vect', CountVectorizer()),\n",
    "                      ('tfidf', TfidfTransformer()),\n",
    "                      ('clf', SVC(kernel='linear'))])\n",
    "text_clf_LinearKernelSVC.fit(X_train, y_train)\n",
    "predicted = text_clf_LinearKernelSVC.predict(X_test)\n",
    "results = confusion_matrix(y_test, predicted) \n",
    "  \n",
    "print ('Confusion Matrix :')\n",
    "print(results) \n",
    "print ('Accuracy Score :',accuracy_score(y_test, predicted) )\n",
    "print ('Report : ')\n",
    "print( classification_report(y_test, predicted) )\n",
    "\n",
    "# print (\"Accuracy LinearKernelSVC: \",np.mean(predicted == y_test))"
   ]
  },
  {
   "cell_type": "code",
   "execution_count": 22,
   "metadata": {},
   "outputs": [
    {
     "name": "stdout",
     "output_type": "stream",
     "text": [
      "Confusion Matrix :\n",
      "[[544 101  32]\n",
      " [117 659  38]\n",
      " [ 80  45 588]]\n",
      "Accuracy Score : 0.8126134301270418\n",
      "Report : \n",
      "              precision    recall  f1-score   support\n",
      "\n",
      "           0       0.73      0.80      0.77       677\n",
      "           1       0.82      0.81      0.81       814\n",
      "           2       0.89      0.82      0.86       713\n",
      "\n",
      "    accuracy                           0.81      2204\n",
      "   macro avg       0.82      0.81      0.81      2204\n",
      "weighted avg       0.82      0.81      0.81      2204\n",
      "\n"
     ]
    }
   ],
   "source": [
    "reg = linear_model.LinearRegression() \n",
    "text_clf_lr = Pipeline([('vect', CountVectorizer()),\n",
    "                      ('tfidf', TfidfTransformer()),\n",
    "                      ('clf', linear_model.LinearRegression())])\n",
    "text_clf_lr.fit(X_train, y_train) \n",
    "predicted = text_clf_LinearKernelSVC.predict(X_test)\n",
    "results = confusion_matrix(y_test, predicted) \n",
    "  \n",
    "print ('Confusion Matrix :')\n",
    "print(results) \n",
    "print ('Accuracy Score :',accuracy_score(y_test, predicted) )\n",
    "print ('Report : ')\n",
    "print( classification_report(y_test, predicted) )\n",
    "# print (\"Accuracy Linear Regression: \",np.mean(predicted == y_test))"
   ]
  },
  {
   "cell_type": "code",
   "execution_count": 7,
   "metadata": {},
   "outputs": [
    {
     "name": "stdout",
     "output_type": "stream",
     "text": [
      "Confusion Matrix :\n",
      "[[552 101  24]\n",
      " [136 625  53]\n",
      " [ 58  64 591]]\n",
      "Accuracy Score : 0.8021778584392014\n",
      "Report : \n",
      "              precision    recall  f1-score   support\n",
      "\n",
      "           0       0.74      0.82      0.78       677\n",
      "           1       0.79      0.77      0.78       814\n",
      "           2       0.88      0.83      0.86       713\n",
      "\n",
      "    accuracy                           0.80      2204\n",
      "   macro avg       0.81      0.80      0.80      2204\n",
      "weighted avg       0.81      0.80      0.80      2204\n",
      "\n"
     ]
    }
   ],
   "source": [
    "text_clf_AdamMLP = Pipeline([('vect', CountVectorizer()),\n",
    "                      ('tfidf', TfidfTransformer()),\n",
    "                      ('clf',  MLPClassifier(hidden_layer_sizes=(128)))])\n",
    "text_clf_AdamMLP.fit(X_train, y_train)\n",
    "predicted = text_clf_AdamMLP.predict(X_test)\n",
    "results = confusion_matrix(y_test, predicted) \n",
    "  \n",
    "print ('Confusion Matrix :')\n",
    "print(results) \n",
    "print ('Accuracy Score :',accuracy_score(y_test, predicted) )\n",
    "print ('Report : ')\n",
    "print( classification_report(y_test, predicted) )\n",
    "# print (\"Accuracy Neural Network: \",np.mean(predicted == y_test))"
   ]
  },
  {
   "cell_type": "code",
   "execution_count": 12,
   "metadata": {},
   "outputs": [
    {
     "name": "stdout",
     "output_type": "stream",
     "text": [
      "Confusion Matrix :\n",
      "[[513 117  47]\n",
      " [104 646  64]\n",
      " [ 56  78 579]]\n",
      "Accuracy Score : 0.7885662431941923\n",
      "Report : \n",
      "              precision    recall  f1-score   support\n",
      "\n",
      "           0       0.76      0.76      0.76       677\n",
      "           1       0.77      0.79      0.78       814\n",
      "           2       0.84      0.81      0.83       713\n",
      "\n",
      "    accuracy                           0.79      2204\n",
      "   macro avg       0.79      0.79      0.79      2204\n",
      "weighted avg       0.79      0.79      0.79      2204\n",
      "\n"
     ]
    }
   ],
   "source": [
    "# model = Word2Vec.load(\"extended.model\")\n",
    "text_clf_NB = Pipeline([ ('clf',MLPClassifier())]).fit(sif_embeddings(X_train,model,0.025), y_train)\n",
    "predicted = text_clf_NB.predict(sif_embeddings(X_test,model,0.025))\n",
    "results = confusion_matrix(y_test, predicted) \n",
    "  \n",
    "print ('Confusion Matrix :')\n",
    "print(results) \n",
    "print ('Accuracy Score :',accuracy_score(y_test, predicted) )\n",
    "print ('Report : ')\n",
    "print( classification_report(y_test, predicted) )\n",
    "# print (np.mean(predicted == y_test))"
   ]
  },
  {
   "cell_type": "code",
   "execution_count": 28,
   "metadata": {},
   "outputs": [
    {
     "name": "stdout",
     "output_type": "stream",
     "text": [
      "Confusion Matrix :\n",
      "[[429 126 122]\n",
      " [214 336 264]\n",
      " [119  93 501]]\n",
      "Accuracy Score : 0.574410163339383\n",
      "Report : \n",
      "              precision    recall  f1-score   support\n",
      "\n",
      "           0       0.56      0.63      0.60       677\n",
      "           1       0.61      0.41      0.49       814\n",
      "           2       0.56      0.70      0.63       713\n",
      "\n",
      "    accuracy                           0.57      2204\n",
      "   macro avg       0.58      0.58      0.57      2204\n",
      "weighted avg       0.58      0.57      0.57      2204\n",
      "\n"
     ]
    }
   ],
   "source": [
    "# model = Word2Vec.load(\"extended.model\")\n",
    "text_clf_NB = Pipeline([ ('clf',GaussianNB())]).fit(sif_embeddings(X_train,model,0.025), y_train)\n",
    "predicted = text_clf_NB.predict(sif_embeddings(X_test,model,0.025))\n",
    "results = confusion_matrix(y_test, predicted) \n",
    "  \n",
    "print ('Confusion Matrix :')\n",
    "print(results) \n",
    "print ('Accuracy Score :',accuracy_score(y_test, predicted) )\n",
    "print ('Report : ')\n",
    "print( classification_report(y_test, predicted) )\n",
    "# print (np.mean(predicted == y_test))"
   ]
  },
  {
   "cell_type": "code",
   "execution_count": 29,
   "metadata": {},
   "outputs": [
    {
     "name": "stderr",
     "output_type": "stream",
     "text": [
      "\n",
      "E:\\Anaconda2\\envs\\a\\lib\\site-packages\\sklearn\\neural_network\\_multilayer_perceptron.py:571: ConvergenceWarning: Stochastic Optimizer: Maximum iterations (200) reached and the optimization hasn't converged yet.\n",
      "  % self.max_iter, ConvergenceWarning)\n"
     ]
    },
    {
     "name": "stdout",
     "output_type": "stream",
     "text": [
      "Confusion Matrix :\n",
      "[[301 287  89]\n",
      " [113 561 140]\n",
      " [ 45 151 517]]\n",
      "Accuracy Score : 0.6256805807622504\n",
      "Report : \n",
      "              precision    recall  f1-score   support\n",
      "\n",
      "           0       0.66      0.44      0.53       677\n",
      "           1       0.56      0.69      0.62       814\n",
      "           2       0.69      0.73      0.71       713\n",
      "\n",
      "    accuracy                           0.63      2204\n",
      "   macro avg       0.64      0.62      0.62      2204\n",
      "weighted avg       0.63      0.63      0.62      2204\n",
      "\n"
     ]
    }
   ],
   "source": [
    "model1 = fasttext.load_model('cc.ur.300.bin')\n",
    "text_clf_NB = Pipeline([ ('clf',MLPClassifier(hidden_layer_sizes=(128), solver='sgd', momentum=0.9))]).fit(sif_embeddings_fasttext(X_train,model1,0.025), y_train)\n",
    "predicted = text_clf_NB.predict(sif_embeddings_fasttext(X_test,model1,0.025))\n",
    "results = confusion_matrix(y_test, predicted) \n",
    "  \n",
    "print ('Confusion Matrix :')\n",
    "print(results) \n",
    "print ('Accuracy Score :',accuracy_score(y_test, predicted) )\n",
    "print ('Report : ')\n",
    "print( classification_report(y_test, predicted) )\n",
    "\n",
    "# print (\"Accuracy Fasttext Pre-Trained Model: \",np.mean(predicted == y_test))"
   ]
  },
  {
   "cell_type": "code",
   "execution_count": 30,
   "metadata": {},
   "outputs": [],
   "source": [
    "# # clf = AdaBoostClassifier()\n",
    "# text_clf_NB = Pipeline([ AdaBoostClassifier(n_estimators=100) ]).fit(sif_embeddings_fasttext(X_train,model,0.025), y_train)\n",
    "# print (\"Accuracy AdaBoostClassifier: \",np.mean(predicted == y_test))"
   ]
  },
  {
   "cell_type": "code",
   "execution_count": 32,
   "metadata": {},
   "outputs": [
    {
     "data": {
      "text/plain": [
       "0.5906711932993534"
      ]
     },
     "execution_count": 32,
     "metadata": {},
     "output_type": "execute_result"
    }
   ],
   "source": [
    "# model1 = fasttext.load_model('cc.ur.300.bin')\n",
    "clf = RandomForestClassifier(n_estimators=10, max_depth=None,\n",
    "    min_samples_split=2, random_state=0)\n",
    "scores = cross_val_score(clf, sif_embeddings_fasttext(X,model1,0.025), Y, cv=5)\n",
    "scores.mean()"
   ]
  },
  {
   "cell_type": "code",
   "execution_count": null,
   "metadata": {},
   "outputs": [],
   "source": [
    "# clf = ExtraTreesClassifier(n_estimators=10, max_depth=None,\n",
    "#     min_samples_split=2, random_state=0)\n",
    "# scores = cross_val_score(clf, X,Y, cv=5)\n",
    "# scores.mean()"
   ]
  },
  {
   "cell_type": "code",
   "execution_count": 9,
   "metadata": {},
   "outputs": [
    {
     "data": {
      "text/plain": [
       "0.7238140450285167"
      ]
     },
     "execution_count": 9,
     "metadata": {},
     "output_type": "execute_result"
    }
   ],
   "source": [
    "# model1 = fasttext.load_model('cc.ur.300.bin')\n",
    "clf1 = DecisionTreeClassifier(max_depth=4)\n",
    "clf2 = KNeighborsClassifier(n_neighbors=7)\n",
    "clf3 = SVC(kernel='rbf', probability=True)\n",
    "eclf = VotingClassifier(estimators=[('dt', clf1), ('knn', clf2), ('svc', clf3)],\n",
    "                        voting='soft', weights=[2, 1, 2])\n",
    "scores1 = cross_val_score(eclf, sif_embeddings_fasttext(X,model1,0.025), Y, cv=5)\n",
    "scores1.mean()"
   ]
  },
  {
   "cell_type": "code",
   "execution_count": 5,
   "metadata": {},
   "outputs": [
    {
     "name": "stdout",
     "output_type": "stream",
     "text": [
      "Train...\n"
     ]
    },
    {
     "name": "stderr",
     "output_type": "stream",
     "text": [
      "E:\\Anaconda2\\envs\\a\\lib\\site-packages\\tensorflow_core\\python\\framework\\indexed_slices.py:433: UserWarning: Converting sparse IndexedSlices to a dense Tensor of unknown shape. This may consume a large amount of memory.\n",
      "  \"Converting sparse IndexedSlices to a dense Tensor of unknown shape. \"\n"
     ]
    },
    {
     "name": "stdout",
     "output_type": "stream",
     "text": [
      "Train on 8814 samples, validate on 2204 samples\n",
      "Epoch 1/2\n",
      "8814/8814 [==============================] - 4089s 464ms/step - loss: 0.7190 - accuracy: 0.6641 - f1_m: 0.2914 - precision_m: 0.8572 - recall_m: 0.2215 - val_loss: 0.4485 - val_accuracy: 0.8226 - val_f1_m: 0.3799 - val_precision_m: 0.9972 - val_recall_m: 0.2394\n",
      "Epoch 2/2\n",
      "8814/8814 [==============================] - 10260s 1s/step - loss: 0.2618 - accuracy: 0.9090 - f1_m: 0.4584 - precision_m: 0.9971 - recall_m: 0.3030 - val_loss: 0.4231 - val_accuracy: 0.8412 - val_f1_m: 0.4565 - val_precision_m: 0.9930 - val_recall_m: 0.3020\n",
      "2204/2204 [==============================] - 100s 46ms/step\n",
      "Test score: 0.42307180299435465\n",
      "Test accuracy: 0.8411978483200073\n",
      "Test f1_m: 0.45650869607925415\n",
      "Test precision_m: 0.9929532408714294\n",
      "Test recall_m: 0.30199480056762695\n"
     ]
    }
   ],
   "source": [
    "docs = X\n",
    "\n",
    "labels = to_categorical(Y)\n",
    "\n",
    "vocab_size = 305812\n",
    "\n",
    "encoded_docs = [one_hot(d, vocab_size) for d in docs]\n",
    "\n",
    "X=np.array(X)\n",
    "Y=np.array(Y)\n",
    "padded_docs = pad_sequences(encoded_docs, maxlen=X.shape[0], padding='post')\n",
    "padded_docs=np.array(padded_docs)\n",
    "labels=np.array(labels)\n",
    "x_train, x_test, y_train, y_test = train_test_split(padded_docs, \n",
    "                                                    labels,test_size=0.20,\n",
    "                                                    random_state=1)\n",
    "embedding_size = 128\n",
    "\n",
    "# Convolution\n",
    "kernel_size = 5\n",
    "filters = 64\n",
    "pool_size = 4\n",
    "\n",
    "# LSTM\n",
    "lstm_output_size = 70\n",
    "\n",
    "# Training\n",
    "batch_size = 30\n",
    "epochs = 2\n",
    "model = Sequential()\n",
    "model.add(Embedding(vocab_size, embedding_size, input_length=X.shape[0]))\n",
    "model.add(Dropout(0.25))\n",
    "model.add(Conv1D(filters,\n",
    "                 kernel_size,\n",
    "                 padding='valid',\n",
    "                 activation='relu',\n",
    "                 strides=1))\n",
    "model.add(MaxPooling1D(pool_size=pool_size))\n",
    "# model.add(LSTM(lstm_output_size))\n",
    "model.add(Bidirectional(LSTM(64)))\n",
    "\n",
    "model.add(Dense(3))\n",
    "model.add(Activation('sigmoid'))\n",
    "\n",
    "model.compile(loss='categorical_crossentropy',\n",
    "              optimizer='adam',\n",
    "              metrics=['accuracy',f1_m,precision_m, recall_m])\n",
    "\n",
    "print('Train...')\n",
    "\n",
    "# print(y_binary[0])\n",
    "# print(ytext_binary[10])\n",
    "history = model.fit(x_train, y_train ,\n",
    "          batch_size=batch_size,\n",
    "          epochs=epochs,\n",
    "          validation_data=(x_test, y_test))\n",
    "score, acc,f1_m,precision_m, recall_m = model.evaluate(x_test, y_test, batch_size=batch_size)\n",
    "print('Test score:', score)\n",
    "print('Test accuracy:', acc)\n",
    "print('Test f1_m:', f1_m)\n",
    "print('Test precision_m:', precision_m)\n",
    "print('Test recall_m:', recall_m)"
   ]
  },
  {
   "cell_type": "code",
   "execution_count": 4,
   "metadata": {},
   "outputs": [],
   "source": [
    "from keras import backend as K\n",
    "\n",
    "def recall_m(y_true, y_pred):\n",
    "    true_positives = K.sum(K.round(K.clip(y_true * y_pred, 0, 1)))\n",
    "    possible_positives = K.sum(K.round(K.clip(y_true, 0, 1)))\n",
    "    recall = true_positives / (possible_positives + K.epsilon())\n",
    "    return recall\n",
    "\n",
    "def precision_m(y_true, y_pred):\n",
    "    true_positives = K.sum(K.round(K.clip(y_true * y_pred, 0, 1)))\n",
    "    predicted_positives = K.sum(K.round(K.clip(y_pred, 0, 1)))\n",
    "    precision = true_positives / (predicted_positives + K.epsilon())\n",
    "    return precision\n",
    "\n",
    "def f1_m(y_true, y_pred):\n",
    "    precision = precision_m(y_true, y_pred)\n",
    "    recall = recall_m(y_true, y_pred)\n",
    "    return 2*((precision*recall)/(precision+recall+K.epsilon()))\n"
   ]
  },
  {
   "cell_type": "code",
   "execution_count": 31,
   "metadata": {},
   "outputs": [
    {
     "data": {
      "image/png": "[encoded data removed]",
      "text/plain": [
       "<Figure size 576x396 with 1 Axes>"
      ]
     },
     "metadata": {},
     "output_type": "display_data"
    }
   ],
   "source": [
    "import matplotlib.pyplot as plt\n",
    "\n",
    "plt.title('Loss')\n",
    "plt.plot(history.history['loss'], label='train')\n",
    "plt.plot(history.history['val_loss'], label='test')\n",
    "plt.style.use('fivethirtyeight')\n",
    "plt.legend()\n",
    "plt.show();"
   ]
  },
  {
   "cell_type": "code",
   "execution_count": 30,
   "metadata": {},
   "outputs": [
    {
     "data": {
      "image/png": "[encoded data removed]",
      "text/plain": [
       "<Figure size 576x396 with 1 Axes>"
      ]
     },
     "metadata": {},
     "output_type": "display_data"
    }
   ],
   "source": [
    "plt.title('Accuracy')\n",
    "plt.plot(history.history['accuracy'], label='train')\n",
    "plt.plot(history.history['val_accuracy'], label='test')\n",
    "plt.style.use('fivethirtyeight')\n",
    "plt.legend()\n",
    "plt.show();"
   ]
  },
  {
   "cell_type": "code",
   "execution_count": null,
   "metadata": {},
   "outputs": [],
   "source": [
    "from sklearn.feature_extraction.text import CountVectorizer\n",
    "from sklearn.naive_bayes import MultinomialNB\n",
    "from sklearn.metrics import accuracy_score, precision_score, recall_score, f1_score\n",
    "from sklearn.model_selection import KFold\n",
    "from sklearn.model_selection import StratifiedKFold\n",
    "from sklearn.feature_extraction.text import CountVectorizer\n",
    "from sklearn.naive_bayes import MultinomialNB\n",
    "from sklearn.pipeline import Pipeline\n",
    "from sklearn.feature_extraction.text import TfidfTransformer\n",
    "import numpy as np\n",
    "import  pandas as pd\n",
    "from sklearn.svm import SVC\n",
    "\n",
    "### this is code to generate corpus\n",
    "import csv\n",
    "\n",
    "X_train=[]\n",
    "X_test = []\n",
    "y_train = []\n",
    "y_test = []\n",
    "df_misra = pd.read_csv('poet_.csv',encoding='utf-8')\n",
    "\n",
    "kf = StratifiedKFold(n_splits=5)\n",
    "values = []\n",
    "accuracy = []\n",
    "for train_index, test_index in kf.split(df_misra['غزل'],df_misra['label']):\n",
    "\n",
    "    i=0\n",
    "    y_train = []\n",
    "    X_train = []\n",
    "    while i<len(train_index):\n",
    "        X_train.append(str(df_misra['غزل'][train_index[i]]).strip('\\ufeff|\\r\\n|1|2|3|4|5|6|7|8|9|0'))\n",
    "        if(df_misra['label'][train_index[i]]=='faiz'):\n",
    "            y_train.append('0')\n",
    "        if(df_misra['label'][train_index[i]]=='ghalib'):\n",
    "            y_train.append('1')\n",
    "        if(df_misra['label'][train_index[i]]=='iqbal'):\n",
    "            y_train.append('2')\n",
    "        i=i+1\n",
    "    i=0\n",
    "    X_test = []\n",
    "    y_test = []\n",
    "    while i<len(test_index):\n",
    "        X_test.append(str(df_misra['غزل'][test_index[i]]).strip('\\ufeff|\\r\\n|1|2|3|4|5|6|7|8|9|0'))\n",
    "        if(df_misra['label'][test_index[i]]=='faiz'):\n",
    "            y_test.append('0')\n",
    "        if(df_misra['label'][test_index[i]]=='ghalib'):\n",
    "            y_test.append('1')\n",
    "        if(df_misra['label'][test_index[i]]=='iqbal'):\n",
    "            y_test.append('2')\n",
    "        i=i+1\n",
    "\n",
    "\n",
    "    #Import MultinomialNB Naive Bayes model\n",
    "    \n",
    "    text_clf_NB = Pipeline([('vect', CountVectorizer()),('tfidf', TfidfTransformer()),('clf', SVC()),])\n",
    "    text_clf_NB.fit(X_train, y_train)\n",
    "    predicted = text_clf_NB.predict(X_test)\n",
    "    \n",
    "    values.append(np.mean(predicted == y_test))\n",
    "    \n",
    "print (\"Avg. Accuracy MultinomialNB K=5: \", np.mean(values))\n"
   ]
  },
  {
   "cell_type": "code",
   "execution_count": null,
   "metadata": {},
   "outputs": [],
   "source": []
  }
 ],
 "metadata": {
  "kernelspec": {
   "display_name": "Python 3",
   "language": "python",
   "name": "python3"
  },
  "language_info": {
   "codemirror_mode": {
    "name": "ipython",
    "version": 3
   },
   "file_extension": ".py",
   "mimetype": "text/x-python",
   "name": "python",
   "nbconvert_exporter": "python",
   "pygments_lexer": "ipython3",
   "version": "3.7.9"
  }
 },
 "nbformat": 4,
 "nbformat_minor": 4
}
